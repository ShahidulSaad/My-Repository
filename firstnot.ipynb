{
 "cells": [
  {
   "cell_type": "code",
   "execution_count": 22,
   "id": "d13c0148-3a19-4171-a370-2b28a24aa480",
   "metadata": {},
   "outputs": [
    {
     "data": {
      "image/png": "[encoded data removed]",
      "text/plain": [
       "<Figure size 640x480 with 1 Axes>"
      ]
     },
     "metadata": {},
     "output_type": "display_data"
    }
   ],
   "source": [
    "import pandas as pd\n",
    "import matplotlib.pyplot as plt\n",
    "import numpy as np\n",
    "#import mercury as mr # for widgets\n",
    "\n",
    "# Replace 'file_name.txt' with the name of your txt file\n",
    "\n",
    "df = pd.read_csv('file:///C:/Users/Shahidul%20Saad/Documents/WeChat%20Files/wxid_kuzakyj21sf322/FileStorage/File/2024-06/serial_20240621_111040.txt',  header=None, na_values=[''], skipinitialspace=True)\n",
    "df.dropna(inplace = True)\n",
    "\n",
    "# Iterate through each column\n",
    "for col in df.columns:\n",
    "    Data =df[col].str.split(';', expand=True)\n",
    "\n",
    "#Data.columns = ['a', 'b']\n",
    "Data.rename(columns = {0:'Odometer', 1:'Trip', 2:'Speed kmh', 3:'Is in Reverse', 4:'Riding Mode',  5:'MCU Current',  6:'BMS Current', 7:'Vehicle status byte1', 8:'Vehicle status byte2', 9:'Throttle',\n",
    "                       10:'MCU Temp', 11:'Motor temp', 12:'Pack Voltage',  13: 'BMS Cell Highest Voltage value', 14: 'BMS Cell Lowest Voltage value', 15:'SOC', 16:'RPM', 17:'Avg MOSTFet temp', 18: '12V voltage', 19:'Charger Volt', 20:'Charger Current', 21: 'Num Ative ERROR', 22: 'Sum Active ERROR', 23: 'Input Head light', 23: 'Turn left', 25: 'Turn Right', 26:'Mode Switch', 27: 'Kick Stand', 28: 'Kill switch', 29:'Key', 30:'Brake'}, inplace = True)\n",
    "plt.plot(Data['Pack Voltage'].astype(float))\n",
    "plt.title('Pack Voltage ')\n",
    "plt.xlabel('Time [S]')\n",
    "plt.ylabel('Voltage [V]')\n",
    "plt.show()"
   ]
  },
  {
   "cell_type": "code",
   "execution_count": 2,
   "id": "0fd32837-dca2-4af4-8208-d14518c2de9d",
   "metadata": {},
   "outputs": [
    {
     "ename": "NameError",
     "evalue": "name 'plt' is not defined",
     "output_type": "error",
     "traceback": [
      "\u001b[1;31m---------------------------------------------------------------------------\u001b[0m",
      "\u001b[1;31mNameError\u001b[0m                                 Traceback (most recent call last)",
      "Cell \u001b[1;32mIn[2], line 1\u001b[0m\n\u001b[1;32m----> 1\u001b[0m \u001b[43mplt\u001b[49m\u001b[38;5;241m.\u001b[39mplot(Data[\u001b[38;5;124m'\u001b[39m\u001b[38;5;124mBMS Current\u001b[39m\u001b[38;5;124m'\u001b[39m]\u001b[38;5;241m.\u001b[39mastype(\u001b[38;5;28mfloat\u001b[39m))\n\u001b[0;32m      2\u001b[0m plt\u001b[38;5;241m.\u001b[39mtitle(\u001b[38;5;124m'\u001b[39m\u001b[38;5;124mBMS Current\u001b[39m\u001b[38;5;124m'\u001b[39m)\n\u001b[0;32m      3\u001b[0m plt\u001b[38;5;241m.\u001b[39mxlabel(\u001b[38;5;124m'\u001b[39m\u001b[38;5;124mTime [S]\u001b[39m\u001b[38;5;124m'\u001b[39m)\n",
      "\u001b[1;31mNameError\u001b[0m: name 'plt' is not defined"
     ]
    }
   ],
   "source": [
    "plt.plot(Data['BMS Current'].astype(float))\n",
    "plt.title('BMS Current')\n",
    "plt.xlabel('Time [S]')\n",
    "plt.ylabel('Current [A]')\n",
    "plt.show()"
   ]
  },
  {
   "cell_type": "code",
   "execution_count": 1,
   "id": "5095fa05-cc43-42c2-a713-cdee1a102998",
   "metadata": {},
   "outputs": [
    {
     "ename": "NameError",
     "evalue": "name 'plt' is not defined",
     "output_type": "error",
     "traceback": [
      "\u001b[1;31m---------------------------------------------------------------------------\u001b[0m",
      "\u001b[1;31mNameError\u001b[0m                                 Traceback (most recent call last)",
      "Cell \u001b[1;32mIn[1], line 1\u001b[0m\n\u001b[1;32m----> 1\u001b[0m \u001b[43mplt\u001b[49m\u001b[38;5;241m.\u001b[39mplot(Data[\u001b[38;5;124m'\u001b[39m\u001b[38;5;124mMotor temp\u001b[39m\u001b[38;5;124m'\u001b[39m]\u001b[38;5;241m.\u001b[39mastype(\u001b[38;5;28mfloat\u001b[39m))\n\u001b[0;32m      2\u001b[0m plt\u001b[38;5;241m.\u001b[39mtitle(\u001b[38;5;124m'\u001b[39m\u001b[38;5;124mMotor temp\u001b[39m\u001b[38;5;124m'\u001b[39m)\n\u001b[0;32m      3\u001b[0m plt\u001b[38;5;241m.\u001b[39mxlabel(\u001b[38;5;124m'\u001b[39m\u001b[38;5;124mTime [S]\u001b[39m\u001b[38;5;124m'\u001b[39m)\n",
      "\u001b[1;31mNameError\u001b[0m: name 'plt' is not defined"
     ]
    }
   ],
   "source": [
    "plt.plot(Data['Motor temp'].astype(float))\n",
    "plt.title('Motor temp')\n",
    "plt.xlabel('Time [S]')\n",
    "plt.ylabel('Current [A]')\n",
    "plt.show()"
   ]
  },
  {
   "cell_type": "code",
   "execution_count": null,
   "id": "941d2aa9",
   "metadata": {},
   "outputs": [],
   "source": []
  }
 ],
 "metadata": {
  "kernelspec": {
   "display_name": "Python 3 (ipykernel)",
   "language": "python",
   "name": "python3"
  },
  "language_info": {
   "codemirror_mode": {
    "name": "ipython",
    "version": 3
   },
   "file_extension": ".py",
   "mimetype": "text/x-python",
   "name": "python",
   "nbconvert_exporter": "python",
   "pygments_lexer": "ipython3",
   "version": "3.12.3"
  }
 },
 "nbformat": 4,
 "nbformat_minor": 5
}
